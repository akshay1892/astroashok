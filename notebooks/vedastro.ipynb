{
 "cells": [
  {
   "cell_type": "code",
   "execution_count": 1,
   "metadata": {},
   "outputs": [
    {
     "name": "stdout",
     "output_type": "stream",
     "text": [
      "Requirement already satisfied: vedastro in c:\\users\\aditi mathur\\documents\\anaconda\\envs\\gen_ai\\lib\\site-packages (1.23.16)\n",
      "Requirement already satisfied: colorama in c:\\users\\aditi mathur\\documents\\anaconda\\envs\\gen_ai\\lib\\site-packages (from vedastro) (0.4.6)\n",
      "Requirement already satisfied: packaging in c:\\users\\aditi mathur\\documents\\anaconda\\envs\\gen_ai\\lib\\site-packages (from vedastro) (24.2)\n",
      "Requirement already satisfied: pycparser in c:\\users\\aditi mathur\\documents\\anaconda\\envs\\gen_ai\\lib\\site-packages (from vedastro) (2.22)\n",
      "Requirement already satisfied: pythonnet<4.0.0,>=3.0.1 in c:\\users\\aditi mathur\\documents\\anaconda\\envs\\gen_ai\\lib\\site-packages (from vedastro) (3.0.5)\n",
      "Requirement already satisfied: requests in c:\\users\\aditi mathur\\documents\\anaconda\\envs\\gen_ai\\lib\\site-packages (from vedastro) (2.32.3)\n",
      "Requirement already satisfied: clr_loader<0.3.0,>=0.2.7 in c:\\users\\aditi mathur\\documents\\anaconda\\envs\\gen_ai\\lib\\site-packages (from pythonnet<4.0.0,>=3.0.1->vedastro) (0.2.7.post0)\n",
      "Requirement already satisfied: charset-normalizer<4,>=2 in c:\\users\\aditi mathur\\documents\\anaconda\\envs\\gen_ai\\lib\\site-packages (from requests->vedastro) (3.4.1)\n",
      "Requirement already satisfied: idna<4,>=2.5 in c:\\users\\aditi mathur\\documents\\anaconda\\envs\\gen_ai\\lib\\site-packages (from requests->vedastro) (3.10)\n",
      "Requirement already satisfied: urllib3<3,>=1.21.1 in c:\\users\\aditi mathur\\documents\\anaconda\\envs\\gen_ai\\lib\\site-packages (from requests->vedastro) (2.3.0)\n",
      "Requirement already satisfied: certifi>=2017.4.17 in c:\\users\\aditi mathur\\documents\\anaconda\\envs\\gen_ai\\lib\\site-packages (from requests->vedastro) (2025.1.31)\n",
      "Requirement already satisfied: cffi>=1.17 in c:\\users\\aditi mathur\\documents\\anaconda\\envs\\gen_ai\\lib\\site-packages (from clr_loader<0.3.0,>=0.2.7->pythonnet<4.0.0,>=3.0.1->vedastro) (1.17.1)\n"
     ]
    }
   ],
   "source": [
    "!pip install vedastro"
   ]
  },
  {
   "cell_type": "code",
   "execution_count": 1,
   "metadata": {},
   "outputs": [
    {
     "name": "stdout",
     "output_type": "stream",
     "text": [
      "VedAstro - Made & Funded by Users - https://vedastro.org/Donate\n",
      "\n"
     ]
    }
   ],
   "source": [
    "from vedastro import * \n"
   ]
  },
  {
   "cell_type": "code",
   "execution_count": null,
   "metadata": {},
   "outputs": [],
   "source": [
    "\n",
    "#PART 1 : PREPARE NEEDED DATA\n",
    "#-----------------------------------\n",
    "\n",
    "# set birth location\n",
    "geolocation = GeoLocation(\"Tokyo, Japan\", 139.83, 35.65)\n",
    "\n",
    "# group all birth time data together (day/month/year)\n",
    "birth_time = Time(\"23:40 31/12/2010 +08:00\", geolocation)\n",
    "\n",
    "#PART 2 : CALCULATE ALL DATA\n",
    "#-----------------------------------\n",
    "\n",
    "#PLANETS\n",
    "allPlanetDataList = Calculate.AllPlanetData(PlanetName.Sun, birth_time)\n",
    "print(json.dumps(allPlanetDataList, indent=4))\n",
    "\n",
    "#HOUSES\n",
    "allHouseDataList = Calculate.AllHouseData(HouseName.House1, birth_time)\n",
    "print(json.dumps(allHouseDataList, indent=4))\n",
    "\n",
    "#ZODIAC SIGNS\n",
    "allZodiacDataList = Calculate.AllZodiacSignData(ZodiacName.Gemini, birth_time)\n",
    "print(json.dumps(allZodiacDataList, indent=4))"
   ]
  },
  {
   "cell_type": "code",
   "execution_count": 3,
   "metadata": {},
   "outputs": [],
   "source": [
    "# from vedastro import *  # install via pip\n",
    "\n",
    "# PART 0 : Set API key\n",
    "Calculate.SetAPIKey('8QZpN9yVvp')  # ⚡ unlimited speed  API key from \"vedastro.org/Account\"\n",
    "\n",
    "# set location\n",
    "geolocation = GeoLocation(\"Tokyo, Japan\", 139.83, 35.65)\n",
    "\n",
    "# set time hh:mm dd/mm/yyyy zzz\n",
    "birthTime = Time(\"23:40 31/12/2010 +08:00\", geolocation)\n"
   ]
  },
  {
   "cell_type": "code",
   "execution_count": 4,
   "metadata": {},
   "outputs": [
    {
     "name": "stdout",
     "output_type": "stream",
     "text": [
      "\"SunAshtakavargaYoga2, SunAshtakavargaYoga6, MercuryAshtakavargaYoga12A, AnaphaYoga, DhurdhuraYoga, ChatussagaraYoga, VasumathiYoga, RajalakshanaYoga, ParvataYoga, VasiYoga, House1LordInHouse3, House2LordInHouse2, House3LordInHouse4, House3LordInHouse4Strong9th, House3LordInHouse4WeakMars, House3LordInHouse4Fortified, House4LordInHouse7, House5LordInHouse1Fortified, House5LordInHouse1Afflicted, House5LordInHouse1AfflictedModerate, House6LordInHouse1Fortified, House6LordInHouse1Afflicted, House7LordInHouse7, House8LordInHouse4, House9LordInHouse2, House10LordInHouse3, House11LordInHouse3, House12LordInHouse4, VirgoRising, SaturnInHouse1, VenusInHouse2, MoonInHouse3, MercuryInHouse3, SunInHouse4, MarsInHouse4, RahuInHouse4, JupiterInHouse7, KetuInHouse10, MaleficIn11FromArudha, BeneficIn11FromArudha, MercuryOrJupiterIn7th, Lord7And1NotFriends, SunInSagittarius, MoonInScorpio, MarsInSagittarius, MercuryInScorpio, JupiterInPisces, VenusInLibra, SaturnInVirgo\"\n"
     ]
    }
   ],
   "source": [
    "\n",
    "# run calculator to get result\n",
    "calcResult = Calculate.HoroscopePredictionNames(birthTime)\n",
    "\n",
    "# display results\n",
    "print(json.dumps(calcResult, indent=4))"
   ]
  },
  {
   "cell_type": "code",
   "execution_count": 7,
   "metadata": {},
   "outputs": [
    {
     "data": {
      "text/plain": [
       "'House11'"
      ]
     },
     "execution_count": 7,
     "metadata": {},
     "output_type": "execute_result"
    }
   ],
   "source": [
    "Calculate.HouseFromSignName(ZodiacName.Cancer,birthTime)"
   ]
  },
  {
   "cell_type": "code",
   "execution_count": 23,
   "metadata": {},
   "outputs": [
    {
     "ename": "AttributeError",
     "evalue": "'list' object has no attribute 'values'",
     "output_type": "error",
     "traceback": [
      "\u001b[1;31m---------------------------------------------------------------------------\u001b[0m",
      "\u001b[1;31mAttributeError\u001b[0m                            Traceback (most recent call last)",
      "Cell \u001b[1;32mIn[23], line 1\u001b[0m\n\u001b[1;32m----> 1\u001b[0m \u001b[43mCalculate\u001b[49m\u001b[38;5;241;43m.\u001b[39;49m\u001b[43mHoroscopePredictions\u001b[49m\u001b[43m(\u001b[49m\u001b[43mbirthTime\u001b[49m\u001b[43m,\u001b[49m\u001b[43mfilterTag\u001b[49m\u001b[38;5;241;43m=\u001b[39;49m\u001b[38;5;124;43m\"\u001b[39;49m\u001b[38;5;124;43mEmpty\u001b[39;49m\u001b[38;5;124;43m\"\u001b[39;49m\u001b[43m)\u001b[49m\n",
      "File \u001b[1;32mc:\\Users\\Aditi Mathur\\Documents\\Anaconda\\envs\\gen_ai\\lib\\site-packages\\vedastro\\calculate.py:2570\u001b[0m, in \u001b[0;36mCalculate.HoroscopePredictions\u001b[1;34m(cls, birthTime, filterTag)\u001b[0m\n\u001b[0;32m   2564\u001b[0m endpoint \u001b[38;5;241m=\u001b[39m \u001b[38;5;124m\"\u001b[39m\u001b[38;5;124mHoroscopePredictions\u001b[39m\u001b[38;5;124m\"\u001b[39m\n\u001b[0;32m   2565\u001b[0m params \u001b[38;5;241m=\u001b[39m {\n\u001b[0;32m   2566\u001b[0m     \u001b[38;5;124m\"\u001b[39m\u001b[38;5;124mLocation\u001b[39m\u001b[38;5;124m\"\u001b[39m: birthTime\u001b[38;5;241m.\u001b[39mgeolocation\u001b[38;5;241m.\u001b[39mlocation_name,\n\u001b[0;32m   2567\u001b[0m     \u001b[38;5;124m\"\u001b[39m\u001b[38;5;124mTime\u001b[39m\u001b[38;5;124m\"\u001b[39m: birthTime\u001b[38;5;241m.\u001b[39murl_time_string(),\n\u001b[0;32m   2568\u001b[0m     \u001b[38;5;124m\"\u001b[39m\u001b[38;5;124mfilterTag\u001b[39m\u001b[38;5;124m\"\u001b[39m: filterTag,\n\u001b[0;32m   2569\u001b[0m }\n\u001b[1;32m-> 2570\u001b[0m \u001b[38;5;28;01mreturn\u001b[39;00m \u001b[38;5;28;43mcls\u001b[39;49m\u001b[38;5;241;43m.\u001b[39;49m\u001b[43m_make_request\u001b[49m\u001b[43m(\u001b[49m\u001b[43mendpoint\u001b[49m\u001b[43m,\u001b[49m\u001b[43m \u001b[49m\u001b[43mparams\u001b[49m\u001b[43m)\u001b[49m\n",
      "File \u001b[1;32mc:\\Users\\Aditi Mathur\\Documents\\Anaconda\\envs\\gen_ai\\lib\\site-packages\\vedastro\\calculate.py:30\u001b[0m, in \u001b[0;36mCalculate._make_request\u001b[1;34m(cls, endpoint, params)\u001b[0m\n\u001b[0;32m     28\u001b[0m     \u001b[38;5;28mprint\u001b[39m(data[\u001b[38;5;124m\"\u001b[39m\u001b[38;5;124mPayload\u001b[39m\u001b[38;5;124m\"\u001b[39m])\n\u001b[0;32m     29\u001b[0m \u001b[38;5;28;01mif\u001b[39;00m \u001b[38;5;124m\"\u001b[39m\u001b[38;5;124mPayload\u001b[39m\u001b[38;5;124m\"\u001b[39m \u001b[38;5;129;01min\u001b[39;00m data \u001b[38;5;129;01mand\u001b[39;00m data[\u001b[38;5;124m\"\u001b[39m\u001b[38;5;124mPayload\u001b[39m\u001b[38;5;124m\"\u001b[39m]:\n\u001b[1;32m---> 30\u001b[0m     \u001b[38;5;28;01mreturn\u001b[39;00m \u001b[38;5;28mlist\u001b[39m(\u001b[43mdata\u001b[49m\u001b[43m[\u001b[49m\u001b[38;5;124;43m\"\u001b[39;49m\u001b[38;5;124;43mPayload\u001b[39;49m\u001b[38;5;124;43m\"\u001b[39;49m\u001b[43m]\u001b[49m\u001b[38;5;241;43m.\u001b[39;49m\u001b[43mvalues\u001b[49m())[\u001b[38;5;241m0\u001b[39m]\n\u001b[0;32m     31\u001b[0m \u001b[38;5;28;01melse\u001b[39;00m:\n\u001b[0;32m     32\u001b[0m     \u001b[38;5;28;01mraise\u001b[39;00m \u001b[38;5;167;01mValueError\u001b[39;00m(\u001b[38;5;124m\"\u001b[39m\u001b[38;5;124mPayload is missing or empty\u001b[39m\u001b[38;5;124m\"\u001b[39m)\n",
      "\u001b[1;31mAttributeError\u001b[0m: 'list' object has no attribute 'values'"
     ]
    }
   ],
   "source": [
    "Calculate.HoroscopePredictions(birthTime,filterTag=\"Empty\")"
   ]
  },
  {
   "cell_type": "code",
   "execution_count": 18,
   "metadata": {},
   "outputs": [
    {
     "name": "stdout",
     "output_type": "stream",
     "text": [
      "{'Location': 'Tokyo, Japan', 'Time': '23:40/31/12/2010/+08:00'}\n"
     ]
    }
   ],
   "source": [
    "time_params = {\n",
    "            \"Location\": birthTime.geolocation.location_name,\n",
    "            \"Time\": birthTime.url_time_string(),\n",
    "        }\n",
    "print(time_params)"
   ]
  },
  {
   "cell_type": "code",
   "execution_count": 29,
   "metadata": {},
   "outputs": [],
   "source": [
    "\n",
    "API_KEY = '8QZpN9yVvp'\n",
    "endpoint = \"HoroscopePredictionNames\"\n",
    "params = {\n",
    "    \"Location\": birthTime.geolocation.location_name,\n",
    "    \"Time\": birthTime.url_time_string(),\n",
    "}"
   ]
  },
  {
   "cell_type": "code",
   "execution_count": 31,
   "metadata": {},
   "outputs": [
    {
     "name": "stdout",
     "output_type": "stream",
     "text": [
      "https://vedastro-website-api.azurewebsites.net/api/Calculate/HoroscopePredictions/Location/Tokyo, Japan/Time/23:40/31/12/2010/+08:00/filterTag/Empty/APIKey/8QZpN9yVvp\n"
     ]
    }
   ],
   "source": [
    "base_url = \"https://vedastro-website-api.azurewebsites.net/api/Calculate\"\n",
    "endpoint = \"HoroscopePredictions\"\n",
    "\n",
    "url = f\"{base_url}/{endpoint}\"\n",
    "params[\"filterTag\"]= 'Empty'\n",
    "params[\"APIKey\"] = API_KEY\n",
    "query_string = \"/\".join(f\"{key}/{value}\" for key, value in params.items())\n",
    "full_url = f\"{url}/{query_string}\"\n",
    "print(full_url)"
   ]
  },
  {
   "cell_type": "code",
   "execution_count": 32,
   "metadata": {},
   "outputs": [],
   "source": [
    "import requests"
   ]
  },
  {
   "cell_type": "code",
   "execution_count": 46,
   "metadata": {},
   "outputs": [],
   "source": [
    "headers = {'Accept': '''text/html,application/xhtml+xml,application/xml;q=0.9,image/avif,image/webp,image/apng,*/*;q=0.8,application/signed-exchange;v=b3;q=0.7''',\n",
    "           \"accept-encoding\":\"gzip, deflate, br, zstd\"}\n",
    "full_url = \"https://vedastro-website-api.azurewebsites.net/api/Calculate/HoroscopePredictions/Location/Tokyo,%20Japan/Time/23:40/31/12/2010/+08:00/filterTag/Empty/\"\n",
    "horoscope_predictions =requests.get(url=full_url )"
   ]
  },
  {
   "cell_type": "code",
   "execution_count": 47,
   "metadata": {},
   "outputs": [
    {
     "data": {
      "text/plain": [
       "{'Status': 'Fail',\n",
       " 'Payload': \"Exception of type 'System.Exception' was thrown.\"}"
      ]
     },
     "execution_count": 47,
     "metadata": {},
     "output_type": "execute_result"
    }
   ],
   "source": [
    "horoscope_predictions.json()"
   ]
  },
  {
   "cell_type": "code",
   "execution_count": 50,
   "metadata": {},
   "outputs": [
    {
     "name": "stdout",
     "output_type": "stream",
     "text": [
      "{'Status': 'Pass', 'Payload': [{'Name': 'SunAshtakavargaYoga2', 'Description': ' The person will always be ill ', 'RelatedBody': {'Planets': ['Sun'], 'Houses': [], 'Zodiacs': []}}, {'Name': 'SunAshtakavargaYoga6', 'Description': ' The father expires in the 17th year of the native ', 'RelatedBody': {'Planets': ['Sun'], 'Houses': [], 'Zodiacs': []}}, {'Name': 'DhurdhuraYoga', 'Description': ' The native is bountiful. He will be blessed with much wealth and conveyances. ', 'RelatedBody': {'Planets': ['Moon'], 'Houses': [], 'Zodiacs': []}}, {'Name': 'ChatussagaraYoga', 'Description': ' The person will earn good reputation be an equal to a ruler have a long and prosperous life be blessed with good children and health and his name will travel to the confines of the four oceans ', 'RelatedBody': {'Planets': ['Mercury', 'Jupiter', 'Jupiter', 'Mercury'], 'Houses': ['House1', 'House4', 'House7', 'House10'], 'Zodiacs': []}}, {'Name': 'VasumathiYoga', 'Description': ' The person will not be a dependent but will always command plenty of wealth. oceans ', 'RelatedBody': {'Planets': [], 'Houses': [], 'Zodiacs': []}}, {'Name': 'RajalakshanaYoga', 'Description': ' The native will possess an attractive appearance and he will be endowed with all the good qualities of high personages. ', 'RelatedBody': {'Planets': [], 'Houses': [], 'Zodiacs': []}}, {'Name': 'ParvataYoga', 'Description': ' The person will become wealthy prosperous liberal charitable humorous and head of a town or village. He will be passionate also. ', 'RelatedBody': {'Planets': [], 'Houses': [], 'Zodiacs': []}}, {'Name': 'VasiYoga', 'Description': ' The subject will be happy prosperous liberal and the favourite of the ruling classes ', 'RelatedBody': {'Planets': ['Sun', 'Mercury', 'Venus'], 'Houses': ['House12'], 'Zodiacs': []}}, {'Name': 'House1LordInHouse3', 'Description': ' Makes one highly couragious fortunate reepectable two wives intelligent and happy. When Lagnadhipati is well disposed the natives rise in life will be brought about by his brothers. He may become famous as a musician or a mathematician depending upon the nature of the sign and the planets involved. ', 'RelatedBody': {'Planets': ['Mercury', 'Mars'], 'Houses': ['House1', 'House3'], 'Zodiacs': []}}, {'Name': 'House2LordInHouse3', 'Description': ' Brave intelligent good-natured but depraved character. Atheistic tendencies will be rampant and he becomes addicted to luxuries. Later in life he turns out to be a miser. When the 2nd lord in the 3rd is well fortified he will be benefited by his sisters. He will benefit by learning fine arts viz. music and dancing. He will also indulge in propitiating Kshudra Devatas or evil spirits. ', 'RelatedBody': {'Planets': ['Venus', 'Mars'], 'Houses': ['House2', 'House3'], 'Zodiacs': []}}, {'Name': 'House3LordInHouse4', 'Description': ' life will be happy on the whole. He becomes rich and learned. But the wife will be cruel-hearted and mean. ', 'RelatedBody': {'Planets': ['Mars', 'Jupiter'], 'Houses': ['House3', 'House4'], 'Zodiacs': []}}, {'Name': 'House3LordInHouse4Strong9th', 'Description': ' He will have step-brothers ', 'RelatedBody': {'Planets': ['Mars', 'Jupiter'], 'Houses': ['House3', 'House4'], 'Zodiacs': []}}, {'Name': 'House3LordInHouse4WeakMars', 'Description': ' he will lose his lands and he will have to live in others houses. ', 'RelatedBody': {'Planets': ['Mars', 'Jupiter'], 'Houses': ['House3', 'House4'], 'Zodiacs': []}}, {'Name': 'House3LordInHouse4Fortified', 'Description': ' his brothers will survive him. ', 'RelatedBody': {'Planets': ['Mars', 'Jupiter'], 'Houses': ['House3', 'House4'], 'Zodiacs': []}}, {'Name': 'House4LordInHouse7', 'Description': 'Generally happy  will command houses and lands  will eke out livelihood in distant places or near his birthplace according as the seventh happens to be a movable or fixed sign.', 'RelatedBody': {'Planets': ['Jupiter', 'Jupiter'], 'Houses': ['House4', 'House7'], 'Zodiacs': []}}, {'Name': 'House5LordInHouse1Fortified', 'Description': ' the person commands a number of servants becomes a Judge Magistrate or Minister empowered to punish the evil-minded. He will earn the grace of God  few children  will have foes and gives happiness to others. If the 5th lord is afflicted there will be no issues will invoke kshudra devatas evil and destructive forces will be evil-minded and leader of a gang of deceitful persons  a tale-bearer with a sting. If the lord is moderately good mixed results will follow. ', 'RelatedBody': {'Planets': ['Saturn', 'Mercury'], 'Houses': ['House5', 'House1'], 'Zodiacs': []}}, {'Name': 'House5LordInHouse1Afflicted', 'Description': ' there will be no issues will invoke kshudra devatas evil and destructive forces will be evil-minded and leader of a gang of deceitful persons  a tale-bearer with a sting. If the lord is moderately good mixed results will follow. ', 'RelatedBody': {'Planets': ['Saturn', 'Mercury'], 'Houses': ['House5', 'House1'], 'Zodiacs': []}}, {'Name': 'House5LordInHouse1AfflictedModerate', 'Description': ' mixed results will follow. ', 'RelatedBody': {'Planets': ['Saturn', 'Mercury'], 'Houses': ['House5', 'House1'], 'Zodiacs': []}}, {'Name': 'House6LordInHouse1Fortified', 'Description': ' the person may Join the army as a soldier or Commander consistent with the strength or otherwise of the disposition. Or he may become a Minister of War or an official or officer concerned with prisons. He will live in the house of his maternal uncle. ', 'RelatedBody': {'Planets': ['Saturn', 'Mercury'], 'Houses': ['House6', 'House1'], 'Zodiacs': []}}, {'Name': 'House6LordInHouse1Afflicted', 'Description': ' he will become a robber or a thief or leader of a criminal gang. ', 'RelatedBody': {'Planets': ['Saturn', 'Mercury'], 'Houses': ['House6', 'House1'], 'Zodiacs': []}}, {'Name': 'House7LordInHouse7', 'Description': 'If well placed the native will have a charming and magnetic personality. Women will flock to him and seek him out for alliance. The wife or husband will be a just and honourable person coming from a family of reputation and social standing. If weak and afflicted it gives a lonely life devoid of marriage and friends and loss through marriage negotiations.', 'RelatedBody': {'Planets': ['Jupiter', 'Jupiter'], 'Houses': ['House7', 'House7'], 'Zodiacs': []}}, {'Name': 'House8LordInHouse4', 'Description': 'If the iord of the 8th house joins the 4th lord in the 4th house the natives mental peace will be shattered Domestic bickerings financial and other problems will increase. Mothers health may suffer and cause great concern. The native may be beset with problems regarding his house land and conveyance. If the affliction is heavy his land and immovable property may slip from his hands due to circumstances beyond his control. His conveyances may get lost or be destroyed. His pets may contract diseases and die. Malefics furthering the affliction may force him to seek his fortune abroad where he will meet with all sons of troubles and losses. Reverses in profession and the displeasure of superiors are also likely.', 'RelatedBody': {'Planets': ['Mars', 'Jupiter'], 'Houses': ['House8', 'House4'], 'Zodiacs': []}}, {'Name': 'House9LordInHouse3', 'Description': 'If the lord of the ninth is placed in the 3rd the native makes his fortune through writing speeches and oratorial abilities. The natives father will be a man of moderate means while the native advances his fortune through his co-borns. If malefics afflict the ninth lord in the 3rd house the native may land in trouble through his writings which may be irrational and even obscene depending upon the nature of affliction. He may be forced to sell his paternal property because of troubles occurring through his writings.', 'RelatedBody': {'Planets': ['Venus', 'Mars'], 'Houses': ['House9', 'House3'], 'Zodiacs': []}}, {'Name': 'House10LordInHouse3', 'Description': 'The native may have to travel constantly on short-journeys. He will be a speaker or writer of celebrity if the 10th lord is well-placed. His brothers may be instrumental to some extent in advancing his career. If 10th lord is in the 6th 8th or 12th from Navamsa Lagna or in an unfriendly constellation in the 3rd house the natives rise in life is slow and beset with obstacles. If the 3rd lord is also afflicted rivalry between brothers may Ie3d to reversals obstacles etc in the natives career.', 'RelatedBody': {'Planets': ['Mercury', 'Mars'], 'Houses': ['House10', 'House3'], 'Zodiacs': []}}, {'Name': 'House11LordInHouse3', 'Description': 'The person will be a concert-singer or musician and will earn thereby. Gain through brothers is also indicated. He will have many friends and helpful neighbours-Afflictions give contrary results.', 'RelatedBody': {'Planets': ['Moon', 'Mars'], 'Houses': ['House11', 'House3'], 'Zodiacs': []}}, {'Name': 'House12LordInHouse4', 'Description': 'Early death to mother mental restlessness unnecessary worry enmity of relatives and living abroad are some of the results. Suffering constant harrassment from the landlord his residence will be in an ordinary house. But if the twelfth lord is well placed these adverse indications get mitigated to a large extent. If Venus is strong the native may own his own conveyance but it will always give trouble.', 'RelatedBody': {'Planets': ['Sun', 'Jupiter'], 'Houses': ['House12', 'House4'], 'Zodiacs': []}}, {'Name': 'VirgoRising', 'Description': ' Mental Tendencies.Those born in Virgo are impulsive emotional and fond of learning. They love music and fine arts. They lack self-confidence. Methodical and ingenious they have active minds. Physical Tendencies.Persons born in this sign will be middle-sized. Their chest will be prominent and when afflicted weak also. They have a straight nose cheeks massive and the forehead good. General Tendencies.They exhibit their intelligence when quite young. They are discriminating and emotional and get easily carried away by impulse. They are cautious regarding their own interests prudent economical diplomatic and shrewd. As authors they make progress in physical and chemical sciences. They acquire much power and influence over others. They are liable to suffer from nervous breakdowns and paralysis when the sign is afflicted. They are of a speculative nature. ', 'RelatedBody': {'Planets': ['Mercury'], 'Houses': ['House1'], 'Zodiacs': ['Virgo']}}, {'Name': 'SaturnInHouse1', 'Description': 'Foreign customs will be easily copied and imitated. But if Saturn is not afflicted there will be much consideration for the welfare or others.Self-confidence is normally justified. Moral stability will also be marked. The disposition is calm grave and serious. The body will be weak and emaciated. Progress in any venture will be slow but certain. There may be some aversion for responsibility. This position of Saturn makes habits inactive. Loss through negligence and lack of opportunity are possible. The same results will be noticed if the ascendant is aspected by Saturn. Misfortunes are likely in the early part of life.', 'RelatedBody': {'Planets': ['Mercury', 'Saturn'], 'Houses': ['House1'], 'Zodiacs': []}}, {'Name': 'MoonInHouse3', 'Description': 'Generally changes in occupation are indicated fond of travelling and active minded. Wife will be fair. The subject possesses.good knowledge. Rather indifferent to spiritual values of life. Subordinate to wife. Attached to children. If however the Moon is waning cruel miserable impious and unscrupulous. An unfavourable position for peace of mind if afflicted.', 'RelatedBody': {'Planets': ['Mars', 'Moon'], 'Houses': ['House3'], 'Zodiacs': []}}, {'Name': 'MercuryInHouse3', 'Description': 'Will do good deeds for the benefit of others but he will not himself be happy. The mind is sharp. Fond of reading and study  when once he undertakes a work he does it to the finish and will never get discouraged. Tactful and diplomatic. He will befriend businessmen and merchants. He will generally be successful in trade and speculation. A number of brothers and sisters. Independent views. Liked by friends and relatives. When Mercury is afflicted the native is inclined to nervous break-down. Gain through third house affairs.', 'RelatedBody': {'Planets': ['Mars', 'Mercury'], 'Houses': ['House3'], 'Zodiacs': []}}, {'Name': 'VenusInHouse3', 'Description': 'The mental quality is good but health will be poor lacking in vitality. He will take delight in singing music dancing and fine arts. Financially he will not be very successful. If Venus is afflicted miserly mean poor and highly sensual. He becomes funky and interested in scandals. Brothers will be good. Not much happiness from children.', 'RelatedBody': {'Planets': ['Mars', 'Venus'], 'Houses': ['House3'], 'Zodiacs': []}}, {'Name': 'SunInHouse4', 'Description': ' This combination is said to make one generally unhappy and mentally worried. He will be roaming about. The position promises some inheritance. He will have interest in occult and philosophical studies. In the political Geld success is difficult. Obstacles in life are shown if Saturn or Mars aspects the Sun. ', 'RelatedBody': {'Planets': ['Jupiter', 'Sun'], 'Houses': ['House4'], 'Zodiacs': []}}, {'Name': 'MarsInHouse4', 'Description': ' This is generally a bad combination. The person will be deprived of happiness from mother relations and friends but will have success in the political line. There will be quarrels with mother and domestic affairs go awry. If Mars joins Rahu or Ketu the man will have a tendency for suicide. The person will own houses but will not be happy on that account. ', 'RelatedBody': {'Planets': ['Jupiter', 'Mars'], 'Houses': ['House4'], 'Zodiacs': []}}, {'Name': 'RahuInHouse4', 'Description': ' Foolish in behaviour few friends will be subjected to fraud or guilty of fraudulent action. ', 'RelatedBody': {'Planets': ['Jupiter', 'Rahu'], 'Houses': ['House4'], 'Zodiacs': []}}, {'Name': 'JupiterInHouse7', 'Description': ' JupiterDiplomatic and kind-hearted the native gets a virtuous good-looking and chaste wife. He will get good education and gains through marriage. He will be sensitive to others feelings. He has a speculative mind and is a good agriculturist. He undertakes pilgrimages to distant places and is superior to father in his qualities. The native will possess good sons. ', 'RelatedBody': {'Planets': ['Jupiter', 'Jupiter'], 'Houses': ['House7'], 'Zodiacs': []}}, {'Name': 'KetuInHouse10', 'Description': ' Ketu  The native will be strong bold and well-known. He will commit vile deeds and be impure in his resolves. He will face many obstacles in all his undertakings. He will be very clever. If beneficially disposed the native will be happyreligious well read in the scriptures and visit many pilgrim centers and sacred rivers. ', 'RelatedBody': {'Planets': ['Mercury', 'Ketu'], 'Houses': ['House10'], 'Zodiacs': []}}, {'Name': 'Lord2InHouse3', 'Description': 'In the third  Loss from relatives brothers and gain from travels and journeys. source of income', 'RelatedBody': {'Planets': ['Mars', 'Venus'], 'Houses': ['House3'], 'Zodiacs': []}}, {'Name': 'MaleficIn11FromArudha', 'Description': 'Unjust means of earning because malefic planets in the 11th from Arudha Lagna.', 'RelatedBody': {'Planets': ['Moon', 'Moon'], 'Houses': ['House11'], 'Zodiacs': []}}, {'Name': 'BeneficIn11FromArudha', 'Description': 'Just means of earning because benefic planets in the 11th from Arudha Lagna.', 'RelatedBody': {'Planets': ['Moon', 'Mercury', 'Venus'], 'Houses': ['House11'], 'Zodiacs': []}}, {'Name': 'MercuryOrJupiterIn7th', 'Description': ' Mercury or Jupiter in the 7th makes one under-sexed. And such an individual should not be mated to a person with strong sex instincts. ', 'RelatedBody': {'Planets': [], 'Houses': [], 'Zodiacs': []}}, {'Name': 'Lord7And1NotFriends', 'Description': ' Lords of the 7th and 1st are enemies or bitter enemies. There will be no harmony in marriage. ', 'RelatedBody': {'Planets': [], 'Houses': [], 'Zodiacs': []}}, {'Name': 'SunInSagittarius', 'Description': ' Sagittarius - Short-tempered spoils reliable rich obstinate respected by all happy popular religious wealthy musician. ', 'RelatedBody': {'Planets': ['Sun'], 'Houses': [], 'Zodiacs': ['Sagittarius']}}, {'Name': 'MoonInScorpio', 'Description': ' Scorpio - Broad eyes wide chest round shanks and thighs isolation from parents or preceptors brown complexion. straight-forward frank. open-minded cruel. simulator malicious sterility agitated unhappy. wealthy impetuous obstinate. ', 'RelatedBody': {'Planets': ['Moon'], 'Houses': [], 'Zodiacs': ['Scorpio']}}, {'Name': 'MarsInSagittarius', 'Description': ' Sagittarius - Gentlemanly many foes famous minister. statesman open frank pleasure loving few children liable to extremes conservative. indifferent exacting impatient severe quarrelsome. litigation troubles good citizen. ', 'RelatedBody': {'Planets': ['Mars'], 'Houses': [], 'Zodiacs': ['Sagittarius']}}, {'Name': 'MercuryInScorpio', 'Description': ' Scorpio - Short curly hair incentive to indulgence liable to disease of the generative organ general debility crafty malicious selfish subtle indiscreet bold reckless ', 'RelatedBody': {'Planets': ['Mercury'], 'Houses': [], 'Zodiacs': ['Scorpio']}}, {'Name': 'JupiterInPisces', 'Description': ' Pisces - Good inheritance. stout medium height two marriages if with malefics enterprising political diplomacy high position. ', 'RelatedBody': {'Planets': ['Jupiter'], 'Houses': [], 'Zodiacs': ['Pisces']}}, {'Name': 'VenusInScorpio', 'Description': ' Scorpio - Broad features quarrelsome medium statured independent artistic unjust proud disappointed in love haughty not rich. ', 'RelatedBody': {'Planets': ['Venus'], 'Houses': [], 'Zodiacs': ['Scorpio']}}, {'Name': 'SaturnInVirgo', 'Description': ' Virgo - Dark complexion malicious poor quarrelsome erratic narrow-minded rude conservative taste for public life weak health. ', 'RelatedBody': {'Planets': ['Saturn'], 'Houses': [], 'Zodiacs': ['Virgo']}}]}\n"
     ]
    }
   ],
   "source": [
    "# import requests\n",
    "\n",
    "# url = \"https://vedastro-website-api.azurewebsites.net/api/Calculate/HoroscopePredictions/Location/Tokyo, Japan/Time/23:40/31/12/2010/+08:00/filterTag/Empty/\"\n",
    "encoded_url = requests.utils.requote_uri(full_url)  # Properly encodes the URL\n",
    "\n",
    "headers = {\n",
    "    \"User-Agent\": \"Mozilla/5.0 (Windows NT 10.0; Win64; x64) AppleWebKit/537.36 (KHTML, like Gecko) Chrome/91.0.4472.124 Safari/537.36\"\n",
    "}\n",
    "response = requests.get(headers=headers,url=encoded_url)\n",
    "\n",
    "if response.status_code == 200:\n",
    "    print(response.json())  # Print JSON response\n",
    "else:\n",
    "    print(f\"Error: {response.status_code}\")\n"
   ]
  }
 ],
 "metadata": {
  "kernelspec": {
   "display_name": "gen_ai",
   "language": "python",
   "name": "python3"
  },
  "language_info": {
   "codemirror_mode": {
    "name": "ipython",
    "version": 3
   },
   "file_extension": ".py",
   "mimetype": "text/x-python",
   "name": "python",
   "nbconvert_exporter": "python",
   "pygments_lexer": "ipython3",
   "version": "3.10.13"
  }
 },
 "nbformat": 4,
 "nbformat_minor": 2
}
